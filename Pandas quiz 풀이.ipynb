{
 "cells": [
  {
   "cell_type": "markdown",
   "metadata": {},
   "source": [
    "Ref> http://nbviewer.jupyter.org/gist/yong27/715c0ef9a09dd6eb37e9"
   ]
  },
  {
   "cell_type": "code",
   "execution_count": 63,
   "metadata": {},
   "outputs": [],
   "source": [
    "import numpy as np  \n",
    "import pandas as pd  \n",
    "import matplotlib.pyplot as plt  \n",
    "import scipy.stats as stats      \n",
    "import seaborn as sns\n",
    "\n",
    "%matplotlib inline"
   ]
  },
  {
   "cell_type": "markdown",
   "metadata": {},
   "source": [
    "## 1.1)\tStudent_Grade.csv 파일을 읽어 와서 ‘df’ 변수에 저장하기"
   ]
  },
  {
   "cell_type": "code",
   "execution_count": 75,
   "metadata": {},
   "outputs": [
    {
     "data": {
      "text/html": [
       "<div>\n",
       "<style scoped>\n",
       "    .dataframe tbody tr th:only-of-type {\n",
       "        vertical-align: middle;\n",
       "    }\n",
       "\n",
       "    .dataframe tbody tr th {\n",
       "        vertical-align: top;\n",
       "    }\n",
       "\n",
       "    .dataframe thead th {\n",
       "        text-align: right;\n",
       "    }\n",
       "</style>\n",
       "<table border=\"1\" class=\"dataframe\">\n",
       "  <thead>\n",
       "    <tr style=\"text-align: right;\">\n",
       "      <th></th>\n",
       "      <th>class</th>\n",
       "      <th>name</th>\n",
       "      <th>kor</th>\n",
       "      <th>eng</th>\n",
       "      <th>math</th>\n",
       "      <th>science</th>\n",
       "    </tr>\n",
       "  </thead>\n",
       "  <tbody>\n",
       "    <tr>\n",
       "      <th>0</th>\n",
       "      <td>1</td>\n",
       "      <td>aaa</td>\n",
       "      <td>67</td>\n",
       "      <td>87</td>\n",
       "      <td>90</td>\n",
       "      <td>98</td>\n",
       "    </tr>\n",
       "    <tr>\n",
       "      <th>1</th>\n",
       "      <td>1</td>\n",
       "      <td>bbb</td>\n",
       "      <td>45</td>\n",
       "      <td>45</td>\n",
       "      <td>56</td>\n",
       "      <td>98</td>\n",
       "    </tr>\n",
       "    <tr>\n",
       "      <th>2</th>\n",
       "      <td>1</td>\n",
       "      <td>ccc</td>\n",
       "      <td>95</td>\n",
       "      <td>59</td>\n",
       "      <td>96</td>\n",
       "      <td>88</td>\n",
       "    </tr>\n",
       "    <tr>\n",
       "      <th>3</th>\n",
       "      <td>1</td>\n",
       "      <td>ddd</td>\n",
       "      <td>65</td>\n",
       "      <td>94</td>\n",
       "      <td>89</td>\n",
       "      <td>98</td>\n",
       "    </tr>\n",
       "    <tr>\n",
       "      <th>4</th>\n",
       "      <td>1</td>\n",
       "      <td>eee</td>\n",
       "      <td>45</td>\n",
       "      <td>65</td>\n",
       "      <td>78</td>\n",
       "      <td>98</td>\n",
       "    </tr>\n",
       "    <tr>\n",
       "      <th>5</th>\n",
       "      <td>1</td>\n",
       "      <td>fff</td>\n",
       "      <td>78</td>\n",
       "      <td>76</td>\n",
       "      <td>98</td>\n",
       "      <td>89</td>\n",
       "    </tr>\n",
       "    <tr>\n",
       "      <th>6</th>\n",
       "      <td>2</td>\n",
       "      <td>ggg</td>\n",
       "      <td>87</td>\n",
       "      <td>67</td>\n",
       "      <td>65</td>\n",
       "      <td>56</td>\n",
       "    </tr>\n",
       "    <tr>\n",
       "      <th>7</th>\n",
       "      <td>2</td>\n",
       "      <td>hhh</td>\n",
       "      <td>89</td>\n",
       "      <td>98</td>\n",
       "      <td>78</td>\n",
       "      <td>78</td>\n",
       "    </tr>\n",
       "    <tr>\n",
       "      <th>8</th>\n",
       "      <td>2</td>\n",
       "      <td>iii</td>\n",
       "      <td>100</td>\n",
       "      <td>78</td>\n",
       "      <td>56</td>\n",
       "      <td>65</td>\n",
       "    </tr>\n",
       "    <tr>\n",
       "      <th>9</th>\n",
       "      <td>2</td>\n",
       "      <td>jjj</td>\n",
       "      <td>99</td>\n",
       "      <td>89</td>\n",
       "      <td>87</td>\n",
       "      <td>87</td>\n",
       "    </tr>\n",
       "    <tr>\n",
       "      <th>10</th>\n",
       "      <td>2</td>\n",
       "      <td>kkk</td>\n",
       "      <td>98</td>\n",
       "      <td>45</td>\n",
       "      <td>56</td>\n",
       "      <td>54</td>\n",
       "    </tr>\n",
       "    <tr>\n",
       "      <th>11</th>\n",
       "      <td>2</td>\n",
       "      <td>lll</td>\n",
       "      <td>65</td>\n",
       "      <td>89</td>\n",
       "      <td>87</td>\n",
       "      <td>78</td>\n",
       "    </tr>\n",
       "  </tbody>\n",
       "</table>\n",
       "</div>"
      ],
      "text/plain": [
       "    class name  kor  eng  math  science\n",
       "0       1  aaa   67   87    90       98\n",
       "1       1  bbb   45   45    56       98\n",
       "2       1  ccc   95   59    96       88\n",
       "3       1  ddd   65   94    89       98\n",
       "4       1  eee   45   65    78       98\n",
       "5       1  fff   78   76    98       89\n",
       "6       2  ggg   87   67    65       56\n",
       "7       2  hhh   89   98    78       78\n",
       "8       2  iii  100   78    56       65\n",
       "9       2  jjj   99   89    87       87\n",
       "10      2  kkk   98   45    56       54\n",
       "11      2  lll   65   89    87       78"
      ]
     },
     "execution_count": 75,
     "metadata": {},
     "output_type": "execute_result"
    }
   ],
   "source": [
    "df = pd.read_csv('data/Subjects.csv',header = 0, names = ['class','name','kor','eng','math','science'])\n",
    "df"
   ]
  },
  {
   "cell_type": "markdown",
   "metadata": {},
   "source": [
    "## 1.2) df DataFrame에 ‘총점’과 ’평균’ 열을 추가하여 각 학생 별 총점, 평균 점수를 입력 "
   ]
  },
  {
   "cell_type": "code",
   "execution_count": 76,
   "metadata": {},
   "outputs": [
    {
     "data": {
      "text/html": [
       "<div>\n",
       "<style scoped>\n",
       "    .dataframe tbody tr th:only-of-type {\n",
       "        vertical-align: middle;\n",
       "    }\n",
       "\n",
       "    .dataframe tbody tr th {\n",
       "        vertical-align: top;\n",
       "    }\n",
       "\n",
       "    .dataframe thead th {\n",
       "        text-align: right;\n",
       "    }\n",
       "</style>\n",
       "<table border=\"1\" class=\"dataframe\">\n",
       "  <thead>\n",
       "    <tr style=\"text-align: right;\">\n",
       "      <th></th>\n",
       "      <th>class</th>\n",
       "      <th>name</th>\n",
       "      <th>kor</th>\n",
       "      <th>eng</th>\n",
       "      <th>math</th>\n",
       "      <th>science</th>\n",
       "      <th>total_score</th>\n",
       "      <th>avg</th>\n",
       "    </tr>\n",
       "  </thead>\n",
       "  <tbody>\n",
       "    <tr>\n",
       "      <th>9</th>\n",
       "      <td>2</td>\n",
       "      <td>jjj</td>\n",
       "      <td>99</td>\n",
       "      <td>89</td>\n",
       "      <td>87</td>\n",
       "      <td>87</td>\n",
       "      <td>362</td>\n",
       "      <td>90.50</td>\n",
       "    </tr>\n",
       "    <tr>\n",
       "      <th>3</th>\n",
       "      <td>1</td>\n",
       "      <td>ddd</td>\n",
       "      <td>65</td>\n",
       "      <td>94</td>\n",
       "      <td>89</td>\n",
       "      <td>98</td>\n",
       "      <td>346</td>\n",
       "      <td>86.50</td>\n",
       "    </tr>\n",
       "    <tr>\n",
       "      <th>7</th>\n",
       "      <td>2</td>\n",
       "      <td>hhh</td>\n",
       "      <td>89</td>\n",
       "      <td>98</td>\n",
       "      <td>78</td>\n",
       "      <td>78</td>\n",
       "      <td>343</td>\n",
       "      <td>85.75</td>\n",
       "    </tr>\n",
       "    <tr>\n",
       "      <th>0</th>\n",
       "      <td>1</td>\n",
       "      <td>aaa</td>\n",
       "      <td>67</td>\n",
       "      <td>87</td>\n",
       "      <td>90</td>\n",
       "      <td>98</td>\n",
       "      <td>342</td>\n",
       "      <td>85.50</td>\n",
       "    </tr>\n",
       "    <tr>\n",
       "      <th>5</th>\n",
       "      <td>1</td>\n",
       "      <td>fff</td>\n",
       "      <td>78</td>\n",
       "      <td>76</td>\n",
       "      <td>98</td>\n",
       "      <td>89</td>\n",
       "      <td>341</td>\n",
       "      <td>85.25</td>\n",
       "    </tr>\n",
       "    <tr>\n",
       "      <th>2</th>\n",
       "      <td>1</td>\n",
       "      <td>ccc</td>\n",
       "      <td>95</td>\n",
       "      <td>59</td>\n",
       "      <td>96</td>\n",
       "      <td>88</td>\n",
       "      <td>338</td>\n",
       "      <td>84.50</td>\n",
       "    </tr>\n",
       "    <tr>\n",
       "      <th>11</th>\n",
       "      <td>2</td>\n",
       "      <td>lll</td>\n",
       "      <td>65</td>\n",
       "      <td>89</td>\n",
       "      <td>87</td>\n",
       "      <td>78</td>\n",
       "      <td>319</td>\n",
       "      <td>79.75</td>\n",
       "    </tr>\n",
       "    <tr>\n",
       "      <th>8</th>\n",
       "      <td>2</td>\n",
       "      <td>iii</td>\n",
       "      <td>100</td>\n",
       "      <td>78</td>\n",
       "      <td>56</td>\n",
       "      <td>65</td>\n",
       "      <td>299</td>\n",
       "      <td>74.75</td>\n",
       "    </tr>\n",
       "    <tr>\n",
       "      <th>4</th>\n",
       "      <td>1</td>\n",
       "      <td>eee</td>\n",
       "      <td>45</td>\n",
       "      <td>65</td>\n",
       "      <td>78</td>\n",
       "      <td>98</td>\n",
       "      <td>286</td>\n",
       "      <td>71.50</td>\n",
       "    </tr>\n",
       "    <tr>\n",
       "      <th>6</th>\n",
       "      <td>2</td>\n",
       "      <td>ggg</td>\n",
       "      <td>87</td>\n",
       "      <td>67</td>\n",
       "      <td>65</td>\n",
       "      <td>56</td>\n",
       "      <td>275</td>\n",
       "      <td>68.75</td>\n",
       "    </tr>\n",
       "    <tr>\n",
       "      <th>10</th>\n",
       "      <td>2</td>\n",
       "      <td>kkk</td>\n",
       "      <td>98</td>\n",
       "      <td>45</td>\n",
       "      <td>56</td>\n",
       "      <td>54</td>\n",
       "      <td>253</td>\n",
       "      <td>63.25</td>\n",
       "    </tr>\n",
       "    <tr>\n",
       "      <th>1</th>\n",
       "      <td>1</td>\n",
       "      <td>bbb</td>\n",
       "      <td>45</td>\n",
       "      <td>45</td>\n",
       "      <td>56</td>\n",
       "      <td>98</td>\n",
       "      <td>244</td>\n",
       "      <td>61.00</td>\n",
       "    </tr>\n",
       "  </tbody>\n",
       "</table>\n",
       "</div>"
      ],
      "text/plain": [
       "    class name  kor  eng  math  science  total_score    avg\n",
       "9       2  jjj   99   89    87       87          362  90.50\n",
       "3       1  ddd   65   94    89       98          346  86.50\n",
       "7       2  hhh   89   98    78       78          343  85.75\n",
       "0       1  aaa   67   87    90       98          342  85.50\n",
       "5       1  fff   78   76    98       89          341  85.25\n",
       "2       1  ccc   95   59    96       88          338  84.50\n",
       "11      2  lll   65   89    87       78          319  79.75\n",
       "8       2  iii  100   78    56       65          299  74.75\n",
       "4       1  eee   45   65    78       98          286  71.50\n",
       "6       2  ggg   87   67    65       56          275  68.75\n",
       "10      2  kkk   98   45    56       54          253  63.25\n",
       "1       1  bbb   45   45    56       98          244  61.00"
      ]
     },
     "execution_count": 76,
     "metadata": {},
     "output_type": "execute_result"
    }
   ],
   "source": [
    "subjects = ['kor','eng','math','science']\n",
    "df['total_score'] = df[subjects].sum(axis=1)\n",
    "df['avg'] = df['total_score'] / len(subjects)\n",
    "df.sort_values(['avg'], ascending=False)"
   ]
  },
  {
   "cell_type": "code",
   "execution_count": 78,
   "metadata": {},
   "outputs": [],
   "source": [
    "# 한글 표시\n",
    "matplotlib.rc('font', family='AppleGothic')"
   ]
  },
  {
   "cell_type": "code",
   "execution_count": 79,
   "metadata": {},
   "outputs": [
    {
     "data": {
      "text/plain": [
       "<matplotlib.axes._subplots.AxesSubplot at 0x1466aeea438>"
      ]
     },
     "execution_count": 79,
     "metadata": {},
     "output_type": "execute_result"
    },
    {
     "name": "stderr",
     "output_type": "stream",
     "text": [
      "C:\\Anaconda3\\envs\\tensorflow\\lib\\site-packages\\matplotlib\\font_manager.py:1328: UserWarning: findfont: Font family ['AppleGothic'] not found. Falling back to DejaVu Sans\n",
      "  (prop.get_family(), self.defaultFamily[fontext]))\n"
     ]
    },
    {
     "data": {
      "image/png": "[encoded data removed]",
      "text/plain": [
       "<Figure size 576x288 with 1 Axes>"
      ]
     },
     "metadata": {},
     "output_type": "display_data"
    }
   ],
   "source": [
    "sorted_df = df.sort_values(['avg'], ascending=False)\n",
    "sorted_df.index = sorted_df['name']\n",
    "sorted_df['avg'].plot(kind='bar', figsize=(8, 4))"
   ]
  },
  {
   "cell_type": "markdown",
   "metadata": {},
   "source": [
    "## 1.3) Class1반과 Class2반의 평균 점수를 각각 출력"
   ]
  },
  {
   "cell_type": "code",
   "execution_count": 93,
   "metadata": {},
   "outputs": [
    {
     "name": "stdout",
     "output_type": "stream",
     "text": [
      "-class1_avg : 79.04166666666667 -class2_avg : 77.125\n"
     ]
    }
   ],
   "source": [
    "class1 = df[df['class'] == 1]\n",
    "class2 = df[df['class'] == 2]\n",
    "class1_avg = class1['total_score'].sum() / (6 * 4)\n",
    "class2_avg = class2['total_score'].sum() / (6 * 4)\n",
    "print('-class1_avg :', class1_avg, '-class2_avg :',class2_avg)"
   ]
  },
  {
   "cell_type": "markdown",
   "metadata": {},
   "source": [
    "## 1.4) Class1반과 Class2반 두 집단의 차이가 유의한지 p value 값 계산하기 "
   ]
  },
  {
   "cell_type": "code",
   "execution_count": 94,
   "metadata": {},
   "outputs": [
    {
     "data": {
      "text/plain": [
       "Ttest_indResult(statistic=0.319960228209846, pvalue=0.755583336185639)"
      ]
     },
     "execution_count": 94,
     "metadata": {},
     "output_type": "execute_result"
    }
   ],
   "source": [
    "stats.ttest_ind(class1['avg'], class2['avg'])"
   ]
  },
  {
   "cell_type": "markdown",
   "metadata": {},
   "source": [
    "p value > 0.005 이므로 두 집단이 차이가 없어보임. 즉 1반과 2반은 사실 유의한 점수차이가 없음\n",
    "\n",
    "과목별로 차이가 있는지 확인"
   ]
  },
  {
   "cell_type": "code",
   "execution_count": 96,
   "metadata": {},
   "outputs": [
    {
     "name": "stdout",
     "output_type": "stream",
     "text": [
      "kor Ttest_indResult(statistic=-2.490140665442242, pvalue=0.031982494983816424)\n",
      "eng Ttest_indResult(statistic=-0.6156907152631581, pvalue=0.5518533781528807)\n",
      "math Ttest_indResult(statistic=1.4961318778859336, pvalue=0.1654958420079056)\n",
      "science Ttest_indResult(statistic=4.328442555331755, pvalue=0.0014931977711732465)\n"
     ]
    }
   ],
   "source": [
    "for subject in subjects:\n",
    "    print(subject, stats.ttest_ind(class1[subject], class2[subject]))"
   ]
  },
  {
   "cell_type": "markdown",
   "metadata": {},
   "source": [
    "과학 과목은 p value < 0.005. 차이가 많이 난다\n",
    "\n",
    "class1과 class2의 과학에 대한 평균점수를 확인해보자"
   ]
  },
  {
   "cell_type": "code",
   "execution_count": 98,
   "metadata": {},
   "outputs": [
    {
     "data": {
      "text/plain": [
       "(94.83333333333333, 69.66666666666667)"
      ]
     },
     "execution_count": 98,
     "metadata": {},
     "output_type": "execute_result"
    }
   ],
   "source": [
    "class1['science'].sum() / 6, class2['science'].sum() / 6"
   ]
  },
  {
   "cell_type": "markdown",
   "metadata": {},
   "source": [
    "## 2.1) class별 과목 분석"
   ]
  },
  {
   "cell_type": "code",
   "execution_count": 99,
   "metadata": {},
   "outputs": [
    {
     "data": {
      "text/plain": [
       "<matplotlib.axes._subplots.AxesSubplot at 0x1466a3e2438>"
      ]
     },
     "execution_count": 99,
     "metadata": {},
     "output_type": "execute_result"
    },
    {
     "name": "stderr",
     "output_type": "stream",
     "text": [
      "C:\\Anaconda3\\envs\\tensorflow\\lib\\site-packages\\matplotlib\\font_manager.py:1328: UserWarning: findfont: Font family ['AppleGothic'] not found. Falling back to DejaVu Sans\n",
      "  (prop.get_family(), self.defaultFamily[fontext]))\n"
     ]
    },
    {
     "data": {
      "image/png": "[encoded data removed]",
      "text/plain": [
       "<Figure size 720x432 with 1 Axes>"
      ]
     },
     "metadata": {},
     "output_type": "display_data"
    }
   ],
   "source": [
    "sorted_df[subjects].plot(kind='bar', figsize=(10, 6))"
   ]
  },
  {
   "cell_type": "markdown",
   "metadata": {},
   "source": [
    "class1과 class2 각각 bosplot으로 확인"
   ]
  },
  {
   "cell_type": "code",
   "execution_count": 100,
   "metadata": {},
   "outputs": [
    {
     "data": {
      "text/plain": [
       "<matplotlib.axes._subplots.AxesSubplot at 0x1466afb9e48>"
      ]
     },
     "execution_count": 100,
     "metadata": {},
     "output_type": "execute_result"
    },
    {
     "name": "stderr",
     "output_type": "stream",
     "text": [
      "C:\\Anaconda3\\envs\\tensorflow\\lib\\site-packages\\matplotlib\\font_manager.py:1328: UserWarning: findfont: Font family ['AppleGothic'] not found. Falling back to DejaVu Sans\n",
      "  (prop.get_family(), self.defaultFamily[fontext]))\n"
     ]
    },
    {
     "data": {
      "image/png": "[encoded data removed]",
      "text/plain": [
       "<Figure size 432x288 with 1 Axes>"
      ]
     },
     "metadata": {},
     "output_type": "display_data"
    }
   ],
   "source": [
    "df[subjects].boxplot(return_type='axes')"
   ]
  },
  {
   "cell_type": "markdown",
   "metadata": {},
   "source": [
    "class1의 boxplot 확인\n",
    "--> 국어가 낮고, 과학을 잘함"
   ]
  },
  {
   "cell_type": "code",
   "execution_count": 101,
   "metadata": {},
   "outputs": [
    {
     "data": {
      "text/plain": [
       "<matplotlib.axes._subplots.AxesSubplot at 0x1466b05deb8>"
      ]
     },
     "execution_count": 101,
     "metadata": {},
     "output_type": "execute_result"
    },
    {
     "name": "stderr",
     "output_type": "stream",
     "text": [
      "C:\\Anaconda3\\envs\\tensorflow\\lib\\site-packages\\matplotlib\\font_manager.py:1328: UserWarning: findfont: Font family ['AppleGothic'] not found. Falling back to DejaVu Sans\n",
      "  (prop.get_family(), self.defaultFamily[fontext]))\n"
     ]
    },
    {
     "data": {
      "image/png": "[encoded data removed]",
      "text/plain": [
       "<Figure size 432x288 with 1 Axes>"
      ]
     },
     "metadata": {},
     "output_type": "display_data"
    }
   ],
   "source": [
    "class1[subjects].boxplot(return_type='axes')"
   ]
  },
  {
   "cell_type": "markdown",
   "metadata": {},
   "source": [
    "class2의 boxplot 확인 --> 국어를 잘하고, 과학을 못함"
   ]
  },
  {
   "cell_type": "code",
   "execution_count": 102,
   "metadata": {},
   "outputs": [
    {
     "data": {
      "text/plain": [
       "<matplotlib.axes._subplots.AxesSubplot at 0x1466b0f3e10>"
      ]
     },
     "execution_count": 102,
     "metadata": {},
     "output_type": "execute_result"
    },
    {
     "name": "stderr",
     "output_type": "stream",
     "text": [
      "C:\\Anaconda3\\envs\\tensorflow\\lib\\site-packages\\matplotlib\\font_manager.py:1328: UserWarning: findfont: Font family ['AppleGothic'] not found. Falling back to DejaVu Sans\n",
      "  (prop.get_family(), self.defaultFamily[fontext]))\n"
     ]
    },
    {
     "data": {
      "image/png": "[encoded data removed]",
      "text/plain": [
       "<Figure size 432x288 with 1 Axes>"
      ]
     },
     "metadata": {},
     "output_type": "display_data"
    }
   ],
   "source": [
    "class2[subjects].boxplot(return_type='axes')"
   ]
  },
  {
   "cell_type": "markdown",
   "metadata": {},
   "source": [
    "## 2.2) 과목별 상관도\n",
    "\n",
    "보통 수학 점수가 높으면 과학 점수가 높을 것이라고 기대할 수 있다. 국어 점수가 높으면 영어 점수가 높을 것이라고도 기대할 수 있고. 이러한 상관도를 확인해보자"
   ]
  },
  {
   "cell_type": "code",
   "execution_count": 103,
   "metadata": {},
   "outputs": [
    {
     "data": {
      "text/plain": [
       "<matplotlib.axes._subplots.AxesSubplot at 0x1466c19a0b8>"
      ]
     },
     "execution_count": 103,
     "metadata": {},
     "output_type": "execute_result"
    },
    {
     "name": "stderr",
     "output_type": "stream",
     "text": [
      "C:\\Anaconda3\\envs\\tensorflow\\lib\\site-packages\\matplotlib\\font_manager.py:1328: UserWarning: findfont: Font family ['AppleGothic'] not found. Falling back to DejaVu Sans\n",
      "  (prop.get_family(), self.defaultFamily[fontext]))\n"
     ]
    },
    {
     "data": {
      "image/png": "[encoded data removed]",
      "text/plain": [
       "<Figure size 432x288 with 1 Axes>"
      ]
     },
     "metadata": {},
     "output_type": "display_data"
    }
   ],
   "source": [
    "df.plot(kind='scatter', x='math', y='science')"
   ]
  },
  {
   "cell_type": "markdown",
   "metadata": {},
   "source": [
    "수학점수가 높으면 과학점수도 높아 보인다. 어느정도 상관관계가 보인다. 얼마나 상관관계가 있을까? \n",
    "\n",
    "이렇때 상관계수를 구해볼 수가 있다. 피어슨 상관계수로 확인해보자. scipy의 stats 모듈에 함수가 있음."
   ]
  },
  {
   "cell_type": "code",
   "execution_count": 104,
   "metadata": {},
   "outputs": [
    {
     "data": {
      "text/plain": [
       "(0.5632890597067751, 0.05650580486155532)"
      ]
     },
     "execution_count": 104,
     "metadata": {},
     "output_type": "execute_result"
    }
   ],
   "source": [
    "stats.pearsonr(df['math'], df['science'])"
   ]
  },
  {
   "cell_type": "markdown",
   "metadata": {},
   "source": [
    "앞 숫자가 상관계수 뒷 숫자가 p-value를 의미. 상관계수가 0.5보다 높으므로, 관계가 있긴 하지만 p > 0.05 이므로,\n",
    "\n",
    "유의한 상관관계가 있지는 않는다. 데이터가 좀 더 많아지면, p-value가 의미있어지는 경우가 많음. 이 경우는 데\n",
    "\n",
    "이터 n수가 작아서 의미를 찾기 어려운 것 같다. 국어와 영어는 어떨까?"
   ]
  },
  {
   "cell_type": "code",
   "execution_count": 106,
   "metadata": {},
   "outputs": [
    {
     "data": {
      "text/plain": [
       "<matplotlib.axes._subplots.AxesSubplot at 0x1466c1f1be0>"
      ]
     },
     "execution_count": 106,
     "metadata": {},
     "output_type": "execute_result"
    },
    {
     "name": "stderr",
     "output_type": "stream",
     "text": [
      "C:\\Anaconda3\\envs\\tensorflow\\lib\\site-packages\\matplotlib\\font_manager.py:1328: UserWarning: findfont: Font family ['AppleGothic'] not found. Falling back to DejaVu Sans\n",
      "  (prop.get_family(), self.defaultFamily[fontext]))\n"
     ]
    },
    {
     "data": {
      "image/png": "[encoded data removed]",
      "text/plain": [
       "<Figure size 432x288 with 1 Axes>"
      ]
     },
     "metadata": {},
     "output_type": "display_data"
    }
   ],
   "source": [
    "df.plot(kind='scatter', x='kor', y='eng')"
   ]
  },
  {
   "cell_type": "code",
   "execution_count": 105,
   "metadata": {},
   "outputs": [
    {
     "data": {
      "text/plain": [
       "(0.10566562777973997, 0.7437959551857836)"
      ]
     },
     "execution_count": 105,
     "metadata": {},
     "output_type": "execute_result"
    }
   ],
   "source": [
    "stats.pearsonr(df['kor'], df['eng'])"
   ]
  },
  {
   "cell_type": "code",
   "execution_count": 107,
   "metadata": {},
   "outputs": [
    {
     "data": {
      "text/plain": [
       "<matplotlib.axes._subplots.AxesSubplot at 0x1466c1de9e8>"
      ]
     },
     "execution_count": 107,
     "metadata": {},
     "output_type": "execute_result"
    },
    {
     "name": "stderr",
     "output_type": "stream",
     "text": [
      "C:\\Anaconda3\\envs\\tensorflow\\lib\\site-packages\\matplotlib\\font_manager.py:1328: UserWarning: findfont: Font family ['AppleGothic'] not found. Falling back to DejaVu Sans\n",
      "  (prop.get_family(), self.defaultFamily[fontext]))\n"
     ]
    },
    {
     "data": {
      "image/png": "[encoded data removed]",
      "text/plain": [
       "<Figure size 432x288 with 1 Axes>"
      ]
     },
     "metadata": {},
     "output_type": "display_data"
    }
   ],
   "source": [
    "df.plot(kind='scatter', x='kor', y='science')"
   ]
  },
  {
   "cell_type": "code",
   "execution_count": 108,
   "metadata": {},
   "outputs": [
    {
     "data": {
      "text/plain": [
       "(-0.6641304447132412, 0.01850195913942532)"
      ]
     },
     "execution_count": 108,
     "metadata": {},
     "output_type": "execute_result"
    }
   ],
   "source": [
    "stats.pearsonr(df['kor'], df['science'])"
   ]
  },
  {
   "cell_type": "markdown",
   "metadata": {},
   "source": [
    "## 3.1) 모든 학생들의 성적 패턴 분석\n",
    "\n",
    "PCI : https://ko.wikipedia.org/wiki/주성분_분석\n",
    "\n",
    "학생별로 어떤 학생은 수학을 잘하면서 과학을 잘하지만 영어는 약할 수 있고, 또 어떤 학생은 다른 패턴으로 잘하는 과목에 대한 특징이 있을 수 있다. 학생들끼리 이러한 성적 패턴이 얼마나 비슷한지 비교해 볼 수 있을까? 이를 확인할 수 있는 다양한 방법이 있다. 대표적인 방법으로 주성분분석 (Principle component analysis)이 있다. 학생별로 4과목이라는 특성을 두개로 축약한 후, 2차원 평면에 표시하면, 그 종합적인 차이를 한눈에 알 수 있다.\n",
    "\n",
    "PCA 분석은 scikit-learn이라는 라이브러리를 설치하고 수행할 수 있다.\n",
    "\n",
    "PCA 분석의 입력자료는 4과목의 성적데이터이다.\n"
   ]
  },
  {
   "cell_type": "code",
   "execution_count": 109,
   "metadata": {},
   "outputs": [
    {
     "data": {
      "text/html": [
       "<div>\n",
       "<style scoped>\n",
       "    .dataframe tbody tr th:only-of-type {\n",
       "        vertical-align: middle;\n",
       "    }\n",
       "\n",
       "    .dataframe tbody tr th {\n",
       "        vertical-align: top;\n",
       "    }\n",
       "\n",
       "    .dataframe thead th {\n",
       "        text-align: right;\n",
       "    }\n",
       "</style>\n",
       "<table border=\"1\" class=\"dataframe\">\n",
       "  <thead>\n",
       "    <tr style=\"text-align: right;\">\n",
       "      <th></th>\n",
       "      <th>kor</th>\n",
       "      <th>eng</th>\n",
       "      <th>math</th>\n",
       "      <th>science</th>\n",
       "    </tr>\n",
       "  </thead>\n",
       "  <tbody>\n",
       "    <tr>\n",
       "      <th>0</th>\n",
       "      <td>67</td>\n",
       "      <td>87</td>\n",
       "      <td>90</td>\n",
       "      <td>98</td>\n",
       "    </tr>\n",
       "    <tr>\n",
       "      <th>1</th>\n",
       "      <td>45</td>\n",
       "      <td>45</td>\n",
       "      <td>56</td>\n",
       "      <td>98</td>\n",
       "    </tr>\n",
       "    <tr>\n",
       "      <th>2</th>\n",
       "      <td>95</td>\n",
       "      <td>59</td>\n",
       "      <td>96</td>\n",
       "      <td>88</td>\n",
       "    </tr>\n",
       "    <tr>\n",
       "      <th>3</th>\n",
       "      <td>65</td>\n",
       "      <td>94</td>\n",
       "      <td>89</td>\n",
       "      <td>98</td>\n",
       "    </tr>\n",
       "    <tr>\n",
       "      <th>4</th>\n",
       "      <td>45</td>\n",
       "      <td>65</td>\n",
       "      <td>78</td>\n",
       "      <td>98</td>\n",
       "    </tr>\n",
       "    <tr>\n",
       "      <th>5</th>\n",
       "      <td>78</td>\n",
       "      <td>76</td>\n",
       "      <td>98</td>\n",
       "      <td>89</td>\n",
       "    </tr>\n",
       "    <tr>\n",
       "      <th>6</th>\n",
       "      <td>87</td>\n",
       "      <td>67</td>\n",
       "      <td>65</td>\n",
       "      <td>56</td>\n",
       "    </tr>\n",
       "    <tr>\n",
       "      <th>7</th>\n",
       "      <td>89</td>\n",
       "      <td>98</td>\n",
       "      <td>78</td>\n",
       "      <td>78</td>\n",
       "    </tr>\n",
       "    <tr>\n",
       "      <th>8</th>\n",
       "      <td>100</td>\n",
       "      <td>78</td>\n",
       "      <td>56</td>\n",
       "      <td>65</td>\n",
       "    </tr>\n",
       "    <tr>\n",
       "      <th>9</th>\n",
       "      <td>99</td>\n",
       "      <td>89</td>\n",
       "      <td>87</td>\n",
       "      <td>87</td>\n",
       "    </tr>\n",
       "    <tr>\n",
       "      <th>10</th>\n",
       "      <td>98</td>\n",
       "      <td>45</td>\n",
       "      <td>56</td>\n",
       "      <td>54</td>\n",
       "    </tr>\n",
       "    <tr>\n",
       "      <th>11</th>\n",
       "      <td>65</td>\n",
       "      <td>89</td>\n",
       "      <td>87</td>\n",
       "      <td>78</td>\n",
       "    </tr>\n",
       "  </tbody>\n",
       "</table>\n",
       "</div>"
      ],
      "text/plain": [
       "    kor  eng  math  science\n",
       "0    67   87    90       98\n",
       "1    45   45    56       98\n",
       "2    95   59    96       88\n",
       "3    65   94    89       98\n",
       "4    45   65    78       98\n",
       "5    78   76    98       89\n",
       "6    87   67    65       56\n",
       "7    89   98    78       78\n",
       "8   100   78    56       65\n",
       "9    99   89    87       87\n",
       "10   98   45    56       54\n",
       "11   65   89    87       78"
      ]
     },
     "execution_count": 109,
     "metadata": {},
     "output_type": "execute_result"
    }
   ],
   "source": [
    "df[subjects]"
   ]
  },
  {
   "cell_type": "code",
   "execution_count": 115,
   "metadata": {},
   "outputs": [
    {
     "data": {
      "text/plain": [
       "array([[-0.55809652,  0.72621778,  0.78954203,  1.01066629],\n",
       "       [-1.70024754, -1.68176748, -1.44749373,  1.01066629],\n",
       "       [ 0.89555023, -0.87910573,  1.18431305,  0.36897341],\n",
       "       [-0.66192843,  1.12754865,  0.72374686,  1.01066629],\n",
       "       [-1.70024754, -0.53510783,  0.        ,  1.01066629],\n",
       "       [ 0.01297899,  0.09555497,  1.31590339,  0.43314269],\n",
       "       [ 0.48022259, -0.42044187, -0.8553372 , -1.68444381],\n",
       "       [ 0.5840545 ,  1.35688058,  0.        , -0.27271947],\n",
       "       [ 1.15513001,  0.21022093, -1.44749373, -1.10692022],\n",
       "       [ 1.10321405,  0.84088374,  0.59215653,  0.30480412],\n",
       "       [ 1.0512981 , -1.68176748, -1.44749373, -1.81278239],\n",
       "       [-0.66192843,  0.84088374,  0.59215653, -0.27271947]])"
      ]
     },
     "execution_count": 115,
     "metadata": {},
     "output_type": "execute_result"
    }
   ],
   "source": [
    "# Normalization\n",
    "\n",
    "from sklearn.preprocessing import StandardScaler\n",
    "X_std = StandardScaler().fit_transform(df[subjects])\n",
    "X_std"
   ]
  },
  {
   "cell_type": "code",
   "execution_count": 116,
   "metadata": {},
   "outputs": [
    {
     "data": {
      "text/plain": [
       "array([[-1.56591653, -0.09168753],\n",
       "       [ 0.11774518,  2.93515218],\n",
       "       [-0.20727166, -0.38845514],\n",
       "       [-1.71984653, -0.24234692],\n",
       "       [-1.11185524,  1.70512415],\n",
       "       [-1.03327136, -0.43547978],\n",
       "       [ 1.88205338, -0.20323602],\n",
       "       [-0.10118555, -1.27408337],\n",
       "       [ 1.88020684, -0.64411706],\n",
       "       [-0.39554448, -1.36047251],\n",
       "       [ 2.98704605,  0.37256038],\n",
       "       [-0.7321601 , -0.37295837]])"
      ]
     },
     "execution_count": 116,
     "metadata": {},
     "output_type": "execute_result"
    }
   ],
   "source": [
    "# PCI 라이브러리로 4과목(4차원)을 2차원으로 축약\n",
    "from sklearn.decomposition import PCA\n",
    "pca = PCA(n_components=2)\n",
    "Y = pca.fit_transform(X_std)\n",
    "Y"
   ]
  },
  {
   "cell_type": "code",
   "execution_count": 112,
   "metadata": {},
   "outputs": [
    {
     "data": {
      "text/html": [
       "<div>\n",
       "<style scoped>\n",
       "    .dataframe tbody tr th:only-of-type {\n",
       "        vertical-align: middle;\n",
       "    }\n",
       "\n",
       "    .dataframe tbody tr th {\n",
       "        vertical-align: top;\n",
       "    }\n",
       "\n",
       "    .dataframe thead th {\n",
       "        text-align: right;\n",
       "    }\n",
       "</style>\n",
       "<table border=\"1\" class=\"dataframe\">\n",
       "  <thead>\n",
       "    <tr style=\"text-align: right;\">\n",
       "      <th></th>\n",
       "      <th>class</th>\n",
       "      <th>name</th>\n",
       "      <th>kor</th>\n",
       "      <th>eng</th>\n",
       "      <th>math</th>\n",
       "      <th>science</th>\n",
       "      <th>total_score</th>\n",
       "      <th>avg</th>\n",
       "      <th>PC1</th>\n",
       "      <th>PC2</th>\n",
       "    </tr>\n",
       "  </thead>\n",
       "  <tbody>\n",
       "    <tr>\n",
       "      <th>0</th>\n",
       "      <td>1</td>\n",
       "      <td>aaa</td>\n",
       "      <td>67</td>\n",
       "      <td>87</td>\n",
       "      <td>90</td>\n",
       "      <td>98</td>\n",
       "      <td>342</td>\n",
       "      <td>85.50</td>\n",
       "      <td>-1.565917</td>\n",
       "      <td>-0.091688</td>\n",
       "    </tr>\n",
       "    <tr>\n",
       "      <th>1</th>\n",
       "      <td>1</td>\n",
       "      <td>bbb</td>\n",
       "      <td>45</td>\n",
       "      <td>45</td>\n",
       "      <td>56</td>\n",
       "      <td>98</td>\n",
       "      <td>244</td>\n",
       "      <td>61.00</td>\n",
       "      <td>0.117745</td>\n",
       "      <td>2.935152</td>\n",
       "    </tr>\n",
       "    <tr>\n",
       "      <th>2</th>\n",
       "      <td>1</td>\n",
       "      <td>ccc</td>\n",
       "      <td>95</td>\n",
       "      <td>59</td>\n",
       "      <td>96</td>\n",
       "      <td>88</td>\n",
       "      <td>338</td>\n",
       "      <td>84.50</td>\n",
       "      <td>-0.207272</td>\n",
       "      <td>-0.388455</td>\n",
       "    </tr>\n",
       "    <tr>\n",
       "      <th>3</th>\n",
       "      <td>1</td>\n",
       "      <td>ddd</td>\n",
       "      <td>65</td>\n",
       "      <td>94</td>\n",
       "      <td>89</td>\n",
       "      <td>98</td>\n",
       "      <td>346</td>\n",
       "      <td>86.50</td>\n",
       "      <td>-1.719847</td>\n",
       "      <td>-0.242347</td>\n",
       "    </tr>\n",
       "    <tr>\n",
       "      <th>4</th>\n",
       "      <td>1</td>\n",
       "      <td>eee</td>\n",
       "      <td>45</td>\n",
       "      <td>65</td>\n",
       "      <td>78</td>\n",
       "      <td>98</td>\n",
       "      <td>286</td>\n",
       "      <td>71.50</td>\n",
       "      <td>-1.111855</td>\n",
       "      <td>1.705124</td>\n",
       "    </tr>\n",
       "    <tr>\n",
       "      <th>5</th>\n",
       "      <td>1</td>\n",
       "      <td>fff</td>\n",
       "      <td>78</td>\n",
       "      <td>76</td>\n",
       "      <td>98</td>\n",
       "      <td>89</td>\n",
       "      <td>341</td>\n",
       "      <td>85.25</td>\n",
       "      <td>-1.033271</td>\n",
       "      <td>-0.435480</td>\n",
       "    </tr>\n",
       "    <tr>\n",
       "      <th>6</th>\n",
       "      <td>2</td>\n",
       "      <td>ggg</td>\n",
       "      <td>87</td>\n",
       "      <td>67</td>\n",
       "      <td>65</td>\n",
       "      <td>56</td>\n",
       "      <td>275</td>\n",
       "      <td>68.75</td>\n",
       "      <td>1.882053</td>\n",
       "      <td>-0.203236</td>\n",
       "    </tr>\n",
       "    <tr>\n",
       "      <th>7</th>\n",
       "      <td>2</td>\n",
       "      <td>hhh</td>\n",
       "      <td>89</td>\n",
       "      <td>98</td>\n",
       "      <td>78</td>\n",
       "      <td>78</td>\n",
       "      <td>343</td>\n",
       "      <td>85.75</td>\n",
       "      <td>-0.101186</td>\n",
       "      <td>-1.274083</td>\n",
       "    </tr>\n",
       "    <tr>\n",
       "      <th>8</th>\n",
       "      <td>2</td>\n",
       "      <td>iii</td>\n",
       "      <td>100</td>\n",
       "      <td>78</td>\n",
       "      <td>56</td>\n",
       "      <td>65</td>\n",
       "      <td>299</td>\n",
       "      <td>74.75</td>\n",
       "      <td>1.880207</td>\n",
       "      <td>-0.644117</td>\n",
       "    </tr>\n",
       "    <tr>\n",
       "      <th>9</th>\n",
       "      <td>2</td>\n",
       "      <td>jjj</td>\n",
       "      <td>99</td>\n",
       "      <td>89</td>\n",
       "      <td>87</td>\n",
       "      <td>87</td>\n",
       "      <td>362</td>\n",
       "      <td>90.50</td>\n",
       "      <td>-0.395544</td>\n",
       "      <td>-1.360473</td>\n",
       "    </tr>\n",
       "    <tr>\n",
       "      <th>10</th>\n",
       "      <td>2</td>\n",
       "      <td>kkk</td>\n",
       "      <td>98</td>\n",
       "      <td>45</td>\n",
       "      <td>56</td>\n",
       "      <td>54</td>\n",
       "      <td>253</td>\n",
       "      <td>63.25</td>\n",
       "      <td>2.987046</td>\n",
       "      <td>0.372560</td>\n",
       "    </tr>\n",
       "    <tr>\n",
       "      <th>11</th>\n",
       "      <td>2</td>\n",
       "      <td>lll</td>\n",
       "      <td>65</td>\n",
       "      <td>89</td>\n",
       "      <td>87</td>\n",
       "      <td>78</td>\n",
       "      <td>319</td>\n",
       "      <td>79.75</td>\n",
       "      <td>-0.732160</td>\n",
       "      <td>-0.372958</td>\n",
       "    </tr>\n",
       "  </tbody>\n",
       "</table>\n",
       "</div>"
      ],
      "text/plain": [
       "    class name  kor  eng  math  science  total_score    avg       PC1  \\\n",
       "0       1  aaa   67   87    90       98          342  85.50 -1.565917   \n",
       "1       1  bbb   45   45    56       98          244  61.00  0.117745   \n",
       "2       1  ccc   95   59    96       88          338  84.50 -0.207272   \n",
       "3       1  ddd   65   94    89       98          346  86.50 -1.719847   \n",
       "4       1  eee   45   65    78       98          286  71.50 -1.111855   \n",
       "5       1  fff   78   76    98       89          341  85.25 -1.033271   \n",
       "6       2  ggg   87   67    65       56          275  68.75  1.882053   \n",
       "7       2  hhh   89   98    78       78          343  85.75 -0.101186   \n",
       "8       2  iii  100   78    56       65          299  74.75  1.880207   \n",
       "9       2  jjj   99   89    87       87          362  90.50 -0.395544   \n",
       "10      2  kkk   98   45    56       54          253  63.25  2.987046   \n",
       "11      2  lll   65   89    87       78          319  79.75 -0.732160   \n",
       "\n",
       "         PC2  \n",
       "0  -0.091688  \n",
       "1   2.935152  \n",
       "2  -0.388455  \n",
       "3  -0.242347  \n",
       "4   1.705124  \n",
       "5  -0.435480  \n",
       "6  -0.203236  \n",
       "7  -1.274083  \n",
       "8  -0.644117  \n",
       "9  -1.360473  \n",
       "10  0.372560  \n",
       "11 -0.372958  "
      ]
     },
     "execution_count": 112,
     "metadata": {},
     "output_type": "execute_result"
    }
   ],
   "source": [
    "pca_df = pd.DataFrame(Y)\n",
    "pca_df.index = df.index\n",
    "pca_df.columns = ['PC1', 'PC2']\n",
    "df2 = pd.concat([df, pca_df], axis=1)\n",
    "df2"
   ]
  },
  {
   "cell_type": "code",
   "execution_count": 114,
   "metadata": {},
   "outputs": [
    {
     "name": "stderr",
     "output_type": "stream",
     "text": [
      "C:\\Anaconda3\\envs\\tensorflow\\lib\\site-packages\\matplotlib\\font_manager.py:1328: UserWarning: findfont: Font family ['AppleGothic'] not found. Falling back to DejaVu Sans\n",
      "  (prop.get_family(), self.defaultFamily[fontext]))\n"
     ]
    },
    {
     "data": {
      "image/png": "[encoded data removed]",
      "text/plain": [
       "<Figure size 432x288 with 1 Axes>"
      ]
     },
     "metadata": {},
     "output_type": "display_data"
    }
   ],
   "source": [
    "def draw_groups(groups, loc):\n",
    "    fig, ax = plt.subplots()\n",
    "    ax.margins(0.1)\n",
    "\n",
    "    for name, group in groups:\n",
    "        ax.plot(group['PC1'], group['PC2'], marker='o', linestyle='', ms=8, label=name)\n",
    "\n",
    "    ax.legend(numpoints=1, loc=loc)\n",
    "    \n",
    "draw_groups(df2.groupby('class'), loc='upper left')"
   ]
  },
  {
   "cell_type": "markdown",
   "metadata": {},
   "source": [
    "위 scatter plot에 의하면 PC1 < 0, PC2 <0 에 있는 7명의 학생이 어느 정도 비슷한 패턴을 갖는 것으로 보입니다. 이후, 교육 방침을 정하거나, 장래 희망 상담등을 할 때, 이 결과를 이용할 수 있을 것으로 보입니다"
   ]
  },
  {
   "cell_type": "code",
   "execution_count": null,
   "metadata": {},
   "outputs": [],
   "source": []
  }
 ],
 "metadata": {
  "kernelspec": {
   "display_name": "Python [conda env:tensorflow]",
   "language": "python",
   "name": "conda-env-tensorflow-py"
  },
  "language_info": {
   "codemirror_mode": {
    "name": "ipython",
    "version": 3
   },
   "file_extension": ".py",
   "mimetype": "text/x-python",
   "name": "python",
   "nbconvert_exporter": "python",
   "pygments_lexer": "ipython3",
   "version": "3.6.5"
  }
 },
 "nbformat": 4,
 "nbformat_minor": 2
}
