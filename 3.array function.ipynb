{
 "cells": [
  {
   "cell_type": "markdown",
   "metadata": {},
   "source": [
    "# array 관련 함수 사용하기\n",
    " \n",
    "## 각 성분에 적용되는 함수\n",
    " \n",
    " \n",
    "** numpy에서 한 개의 array의 각 성분에 적용되는 함수 정리**\n",
    "\n",
    "- abs        : 각 성분의 절댓값 계산\n",
    "\n",
    "- sqrt       : 각 성분의 제곱근 계산 (array ** 0.5 의 결과와 동일) \n",
    "\n",
    "- square     :각 성분의 제곱 계산 (array ** 2 의 결과와 동일) \n",
    "\n",
    "- exp        :각 성분을 무리수 e의 지수로 삼은 값을 계산 \n",
    "\n",
    "- log, log10, log2    : 자연로그(밑이 e), 상용로그(밑이 10), 밑이 2인 로그를 계산 \n",
    "\n",
    "- sign       :각 성분의 부호 계산 (+인 경우 1, -인 경우 -1, 0인 경우 0) \n",
    "\n",
    "- ceil       :각 성분의 소수 첫 번째 자리에서 올림한 값을 계산 \n",
    "\n",
    "- floor      :각 성분의 소수 첫 번째 자리에서 내림한 값을 계산 \n",
    "\n",
    "- isnan      :각 성분이 NaN(Not a Number)인 경우 True를, 그렇지 않은 경우 False를 반환 \n",
    "\n",
    "- isinf      :각 성분이 무한대(infinity)인 경우 True를, 그렇지 않은 경우 False를 반환 \n",
    "\n",
    "- cos, cosh, sin, sinh, tan, tanh    : 각 성분에 대한 삼각함수 값을 계산 \n"
   ]
  },
  {
   "cell_type": "code",
   "execution_count": 35,
   "metadata": {
    "collapsed": true
   },
   "outputs": [],
   "source": [
    "import numpy as np"
   ]
  },
  {
   "cell_type": "code",
   "execution_count": 36,
   "metadata": {
    "collapsed": false
   },
   "outputs": [],
   "source": [
    "arr = np.arange(1,10)"
   ]
  },
  {
   "cell_type": "code",
   "execution_count": 37,
   "metadata": {
    "collapsed": false
   },
   "outputs": [
    {
     "data": {
      "text/plain": [
       "array([1, 2, 3, 4, 5, 6, 7, 8, 9])"
      ]
     },
     "execution_count": 37,
     "metadata": {},
     "output_type": "execute_result"
    }
   ],
   "source": [
    "arr"
   ]
  },
  {
   "cell_type": "code",
   "execution_count": 38,
   "metadata": {
    "collapsed": false
   },
   "outputs": [
    {
     "data": {
      "text/plain": [
       "array([ 1,  4,  9, 16, 25, 36, 49, 64, 81], dtype=int32)"
      ]
     },
     "execution_count": 38,
     "metadata": {},
     "output_type": "execute_result"
    }
   ],
   "source": [
    "np.square(arr)"
   ]
  },
  {
   "cell_type": "code",
   "execution_count": 39,
   "metadata": {
    "collapsed": false
   },
   "outputs": [
    {
     "data": {
      "text/plain": [
       "array([ 0.        ,  0.30103   ,  0.47712125,  0.60205999,  0.69897   ,\n",
       "        0.77815125,  0.84509804,  0.90308999,  0.95424251])"
      ]
     },
     "execution_count": 39,
     "metadata": {},
     "output_type": "execute_result"
    }
   ],
   "source": [
    "np.log10(arr)"
   ]
  },
  {
   "cell_type": "code",
   "execution_count": 40,
   "metadata": {
    "collapsed": true
   },
   "outputs": [],
   "source": [
    "x = np.random.randn(8)\n",
    "y = np.random.randn(8)"
   ]
  },
  {
   "cell_type": "code",
   "execution_count": 41,
   "metadata": {
    "collapsed": false
   },
   "outputs": [
    {
     "data": {
      "text/plain": [
       "array([ 1.00361594, -0.93926972,  1.02171487,  0.70135733,  1.40277287,\n",
       "        0.66000435, -0.55700724, -0.00630813])"
      ]
     },
     "execution_count": 41,
     "metadata": {},
     "output_type": "execute_result"
    }
   ],
   "source": [
    "x"
   ]
  },
  {
   "cell_type": "code",
   "execution_count": 42,
   "metadata": {
    "collapsed": false
   },
   "outputs": [
    {
     "data": {
      "text/plain": [
       "array([ 1.47609645, -1.20379729, -1.07534692, -1.61808922, -0.2225007 ,\n",
       "       -1.15396431,  0.24198625, -0.45052085])"
      ]
     },
     "execution_count": 42,
     "metadata": {},
     "output_type": "execute_result"
    }
   ],
   "source": [
    "y"
   ]
  },
  {
   "cell_type": "code",
   "execution_count": 43,
   "metadata": {
    "collapsed": false
   },
   "outputs": [
    {
     "data": {
      "text/plain": [
       "array([ 1.47609645, -0.93926972,  1.02171487,  0.70135733,  1.40277287,\n",
       "        0.66000435,  0.24198625, -0.00630813])"
      ]
     },
     "execution_count": 43,
     "metadata": {},
     "output_type": "execute_result"
    }
   ],
   "source": [
    "#x 와 y의 위치값을 비교하여 maximum을 수행\n",
    "np.maximum(x,y)"
   ]
  },
  {
   "cell_type": "markdown",
   "metadata": {},
   "source": [
    "** numpy에서 두 개의 array의 각 성분에 적용되는 함수 정리 **\n",
    "\n",
    "\n",
    "- add         :                         두 array에서 동일한 위치의 성분끼리 더한 값을 계산 (arr1 + arr2의 결과와 동일) \n",
    "\n",
    "- subtract    :               두 array에서 동일한 위치의 성분끼리 뺀 값을 계산 (arr1 - arr2의 결과와 동일) \n",
    "\n",
    "- multiply    :              두 array에서 동일한 위치의 성분끼리 곱한 값을 계산 (arr1 * arr2의 결과와 동일) \n",
    "\n",
    "- divide      :             두 array에서 동일한 위치의 성분끼리 나눈 값을 계산 (arr1 / arr2의 결과와 동일) \n",
    "\n",
    "- maximum     :            두 array에서 동일한 위치의 성분끼리 비교하여 둘 중 최댓값을 반환 \n",
    "\n",
    "- minimum     :           두 array에서 동일한 위치의 성분끼리 비교하여 둘 중 최솟값을 반환 \n"
   ]
  },
  {
   "cell_type": "markdown",
   "metadata": {},
   "source": [
    "## 통계 함수\n",
    " \n",
    " \n",
    "numpy의 array에 적용되는 통계 함수 정리\n",
    "\n",
    "** numpy에서 array에 적용되는 통계함수 정리 **\n",
    "\n",
    "- sum  :                     전체 성분의 합을 계산 \n",
    "\n",
    "- mean  :                    전체 성분의 평균을 계산 \n",
    "\n",
    "- std, var :                  전체 성분의 표준편차, 분산을 계산 \n",
    "\n",
    "- min, max  :                전체 성분의 최솟값, 최댓값을 계산 \n",
    "\n",
    "- argmin, argmax :            전체 성분의 최솟값, 최댓값이 위치한 인덱스를 반환 \n",
    "\n",
    "- cumsum  :                   맨 첫번째 성분부터 각 성분까지의 누적합을 계산 (0에서부터 계속 더해짐) \n",
    "\n",
    "- cumprod  :                 맨 첫번째 성분부터 각 성분까지의 누적곱을 계산 (1에서부터 계속 곱해짐) "
   ]
  },
  {
   "cell_type": "code",
   "execution_count": 44,
   "metadata": {
    "collapsed": true
   },
   "outputs": [],
   "source": [
    "arr = np.random.randn(5,4)"
   ]
  },
  {
   "cell_type": "code",
   "execution_count": 45,
   "metadata": {
    "collapsed": false
   },
   "outputs": [
    {
     "data": {
      "text/plain": [
       "array([[-0.02918725, -0.60926701,  0.42322609,  1.4200465 ],\n",
       "       [ 0.99209058,  1.9448833 ,  0.07778033,  0.19592971],\n",
       "       [-0.09879754,  3.41631214, -0.08050296,  0.57988365],\n",
       "       [ 0.6487635 , -0.72647959, -0.36809462,  1.46037492],\n",
       "       [ 0.02267972, -1.96656152,  0.1041369 , -1.05143002]])"
      ]
     },
     "execution_count": 45,
     "metadata": {},
     "output_type": "execute_result"
    }
   ],
   "source": [
    "arr"
   ]
  },
  {
   "cell_type": "code",
   "execution_count": 46,
   "metadata": {
    "collapsed": false
   },
   "outputs": [
    {
     "data": {
      "text/plain": [
       "6.3557868414336465"
      ]
     },
     "execution_count": 46,
     "metadata": {},
     "output_type": "execute_result"
    }
   ],
   "source": [
    "# 'arr' array의 모든 값에 대하여 sum을 수행\n",
    "arr.sum()"
   ]
  },
  {
   "cell_type": "code",
   "execution_count": 47,
   "metadata": {
    "collapsed": false
   },
   "outputs": [
    {
     "data": {
      "text/plain": [
       "0.3177893420716823"
      ]
     },
     "execution_count": 47,
     "metadata": {},
     "output_type": "execute_result"
    }
   ],
   "source": [
    "arr.mean()"
   ]
  },
  {
   "cell_type": "code",
   "execution_count": 48,
   "metadata": {
    "collapsed": false
   },
   "outputs": [
    {
     "data": {
      "text/plain": [
       "array([ 1.53554902,  2.05888733,  0.15654574,  2.60480476])"
      ]
     },
     "execution_count": 48,
     "metadata": {},
     "output_type": "execute_result"
    }
   ],
   "source": [
    "# 행방향으로 열 값들을 전체 sum을 수행 (각 열의 합을 구함)\n",
    "arr.sum(axis=0)"
   ]
  },
  {
   "cell_type": "code",
   "execution_count": 49,
   "metadata": {
    "collapsed": false
   },
   "outputs": [
    {
     "data": {
      "text/plain": [
       "array([ 1.20481834,  3.21068393,  3.81689529,  1.0145642 , -2.89117492])"
      ]
     },
     "execution_count": 49,
     "metadata": {},
     "output_type": "execute_result"
    }
   ],
   "source": [
    "# 열방향으로 행의 값들을 전체 sum을 수행 ( 각 행의 합을 구함)\n",
    "arr.sum(axis=1)"
   ]
  },
  {
   "cell_type": "code",
   "execution_count": 50,
   "metadata": {
    "collapsed": false
   },
   "outputs": [
    {
     "data": {
      "text/plain": [
       "array([[False, False,  True,  True],\n",
       "       [ True,  True,  True,  True],\n",
       "       [False,  True, False,  True],\n",
       "       [ True, False, False,  True],\n",
       "       [ True, False,  True, False]], dtype=bool)"
      ]
     },
     "execution_count": 50,
     "metadata": {},
     "output_type": "execute_result"
    }
   ],
   "source": [
    "# 조건부 연산\n",
    "arr > 0"
   ]
  },
  {
   "cell_type": "code",
   "execution_count": 51,
   "metadata": {
    "collapsed": false
   },
   "outputs": [
    {
     "data": {
      "text/plain": [
       "12"
      ]
     },
     "execution_count": 51,
     "metadata": {},
     "output_type": "execute_result"
    }
   ],
   "source": [
    "# True값 \n",
    "(arr > 0).sum()"
   ]
  },
  {
   "cell_type": "markdown",
   "metadata": {},
   "source": [
    "## 정렬 함수 및 기타 함수\n"
   ]
  },
  {
   "cell_type": "code",
   "execution_count": 52,
   "metadata": {
    "collapsed": false
   },
   "outputs": [],
   "source": [
    "arr = np.random.randn(8)"
   ]
  },
  {
   "cell_type": "code",
   "execution_count": 53,
   "metadata": {
    "collapsed": false
   },
   "outputs": [
    {
     "data": {
      "text/plain": [
       "array([-0.89586198, -2.1738823 ,  0.85250672, -0.94882067, -0.79086555,\n",
       "        0.1988241 , -0.18247359, -1.01136384])"
      ]
     },
     "execution_count": 53,
     "metadata": {},
     "output_type": "execute_result"
    }
   ],
   "source": [
    "arr"
   ]
  },
  {
   "cell_type": "code",
   "execution_count": 54,
   "metadata": {
    "collapsed": false
   },
   "outputs": [
    {
     "data": {
      "text/plain": [
       "array([-2.1738823 , -1.01136384, -0.94882067, -0.89586198, -0.79086555,\n",
       "       -0.18247359,  0.1988241 ,  0.85250672])"
      ]
     },
     "execution_count": 54,
     "metadata": {},
     "output_type": "execute_result"
    }
   ],
   "source": [
    "# 오름차순 정렬\n",
    "np.sort(arr)"
   ]
  },
  {
   "cell_type": "code",
   "execution_count": 55,
   "metadata": {
    "collapsed": false
   },
   "outputs": [
    {
     "data": {
      "text/plain": [
       "array([ 0.85250672,  0.1988241 , -0.18247359, -0.79086555, -0.89586198,\n",
       "       -0.94882067, -1.01136384, -2.1738823 ])"
      ]
     },
     "execution_count": 55,
     "metadata": {},
     "output_type": "execute_result"
    }
   ],
   "source": [
    "# 내림차순 정렬\n",
    "np.sort(arr)[::-1]"
   ]
  },
  {
   "cell_type": "code",
   "execution_count": 56,
   "metadata": {
    "collapsed": true
   },
   "outputs": [],
   "source": [
    "# 2차원 array 정렬\n",
    "arr = np.random.randn(5,3)"
   ]
  },
  {
   "cell_type": "code",
   "execution_count": 57,
   "metadata": {
    "collapsed": false
   },
   "outputs": [
    {
     "data": {
      "text/plain": [
       "array([[ 0.1450054 ,  0.46572219, -0.7858127 ],\n",
       "       [-0.29019684, -0.52600326, -0.06249059],\n",
       "       [-0.20862485, -0.08037487, -0.81524624],\n",
       "       [-0.16471237, -0.5369893 ,  0.03536702],\n",
       "       [ 1.94777723,  1.1629859 ,  0.62633104]])"
      ]
     },
     "execution_count": 57,
     "metadata": {},
     "output_type": "execute_result"
    }
   ],
   "source": [
    "arr"
   ]
  },
  {
   "cell_type": "code",
   "execution_count": 58,
   "metadata": {
    "collapsed": false
   },
   "outputs": [
    {
     "data": {
      "text/plain": [
       "array([[-0.29019684, -0.5369893 , -0.81524624],\n",
       "       [-0.20862485, -0.52600326, -0.7858127 ],\n",
       "       [-0.16471237, -0.08037487, -0.06249059],\n",
       "       [ 0.1450054 ,  0.46572219,  0.03536702],\n",
       "       [ 1.94777723,  1.1629859 ,  0.62633104]])"
      ]
     },
     "execution_count": 58,
     "metadata": {},
     "output_type": "execute_result"
    }
   ],
   "source": [
    "# 행방향으로 열의 값을 오름차순 정렬\n",
    "np.sort(arr, axis=0)"
   ]
  },
  {
   "cell_type": "code",
   "execution_count": 59,
   "metadata": {
    "collapsed": false
   },
   "outputs": [
    {
     "data": {
      "text/plain": [
       "array([[-0.7858127 ,  0.1450054 ,  0.46572219],\n",
       "       [-0.52600326, -0.29019684, -0.06249059],\n",
       "       [-0.81524624, -0.20862485, -0.08037487],\n",
       "       [-0.5369893 , -0.16471237,  0.03536702],\n",
       "       [ 0.62633104,  1.1629859 ,  1.94777723]])"
      ]
     },
     "execution_count": 59,
     "metadata": {},
     "output_type": "execute_result"
    }
   ],
   "source": [
    "# 열방향으로 행의 값을 오름차순 정렬\n",
    "np.sort(arr, axis = 1)"
   ]
  },
  {
   "cell_type": "code",
   "execution_count": 60,
   "metadata": {
    "collapsed": true
   },
   "outputs": [],
   "source": [
    "large_arr = np.random.randn(150)"
   ]
  },
  {
   "cell_type": "code",
   "execution_count": 61,
   "metadata": {
    "collapsed": false
   },
   "outputs": [
    {
     "data": {
      "text/plain": [
       "array([ 0.17769502,  0.87009197,  0.17786421,  0.49626934, -1.60909767,\n",
       "        0.69452363,  2.01007025,  1.08022522,  0.33640642,  0.44962293,\n",
       "        0.74706887, -0.12954649,  0.24335529, -1.92386922, -0.37139271,\n",
       "       -0.20847161, -0.42700569, -0.04293927, -1.59086651, -0.75034797,\n",
       "        0.80675677,  0.5093497 , -0.23187811,  1.14222102, -0.71158039,\n",
       "        0.58743938, -0.55062522,  0.80517455, -0.3390992 , -1.03407598,\n",
       "        0.02506508,  0.36623417, -0.26773164,  1.09194289, -0.08126688,\n",
       "       -1.53349872,  0.04282613, -1.55845604, -0.85022053, -1.49338991,\n",
       "       -0.20252454,  1.0586393 , -1.62629174, -0.76987367,  1.33652332,\n",
       "       -0.77803579,  0.96009012, -0.47204166,  0.51126223,  1.07103455,\n",
       "        1.03751917,  1.23515302,  0.28393679, -1.25177391, -0.95259631,\n",
       "       -0.47412315, -0.7352677 , -0.13732861,  0.43711324, -1.33061601,\n",
       "       -0.27997688, -0.36880159,  1.3605289 , -1.21218525, -0.61687237,\n",
       "        1.26725678,  0.51288849,  0.81604123, -0.12995327,  1.07281011,\n",
       "        0.05171216,  0.45904951,  0.14300802,  0.20129249,  1.86716163,\n",
       "        1.12778463, -0.55693049,  1.15984315,  0.07004315, -0.86146296,\n",
       "        1.51070858, -0.04360451,  0.1522421 , -1.09457591,  0.18771154,\n",
       "       -1.63091903,  0.23939137, -1.18139318,  1.21586212, -0.13351683,\n",
       "        0.85701218, -0.29179505, -0.58371236,  0.08098534, -1.00265506,\n",
       "       -0.14777356,  1.33311197, -0.09958341,  1.35928068, -0.20731306,\n",
       "       -0.05504699, -1.57871428, -0.19124227, -0.56899338, -0.16338666,\n",
       "        2.12625237,  0.94645666,  0.01700146,  0.70450326,  0.40367124,\n",
       "        0.19140006, -0.13319125,  0.46512059, -0.73493128, -0.19480987,\n",
       "        1.16747324,  1.69409054, -0.53737289, -0.47158127,  0.48752086,\n",
       "        0.67842469, -1.9954363 , -0.61953537, -0.34921867, -0.0420467 ,\n",
       "        0.68439509, -0.11322489,  0.18282894,  0.48392369, -1.78036325,\n",
       "        1.00798049, -1.17020594, -1.14439002, -0.57185494,  0.49031858,\n",
       "       -1.54409574, -0.73431637,  1.39582308,  0.89817279, -0.90748302,\n",
       "       -0.81156395, -1.34633779,  0.09793307, -0.68376331,  0.65163564,\n",
       "       -0.40808614, -0.02767581,  1.17551742, -0.63229506, -1.40725837])"
      ]
     },
     "execution_count": 61,
     "metadata": {},
     "output_type": "execute_result"
    }
   ],
   "source": [
    "large_arr"
   ]
  },
  {
   "cell_type": "code",
   "execution_count": 62,
   "metadata": {
    "collapsed": true
   },
   "outputs": [],
   "source": [
    "#상위 5%의 값을 찾기"
   ]
  },
  {
   "cell_type": "code",
   "execution_count": 63,
   "metadata": {
    "collapsed": false
   },
   "outputs": [
    {
     "data": {
      "text/plain": [
       "array([ 2.12625237,  2.01007025,  1.86716163,  1.69409054,  1.51070858,\n",
       "        1.39582308,  1.3605289 ,  1.35928068,  1.33652332,  1.33311197,\n",
       "        1.26725678,  1.23515302,  1.21586212,  1.17551742,  1.16747324,\n",
       "        1.15984315,  1.14222102,  1.12778463,  1.09194289,  1.08022522,\n",
       "        1.07281011,  1.07103455,  1.0586393 ,  1.03751917,  1.00798049,\n",
       "        0.96009012,  0.94645666,  0.89817279,  0.87009197,  0.85701218,\n",
       "        0.81604123,  0.80675677,  0.80517455,  0.74706887,  0.70450326,\n",
       "        0.69452363,  0.68439509,  0.67842469,  0.65163564,  0.58743938,\n",
       "        0.51288849,  0.51126223,  0.5093497 ,  0.49626934,  0.49031858,\n",
       "        0.48752086,  0.48392369,  0.46512059,  0.45904951,  0.44962293,\n",
       "        0.43711324,  0.40367124,  0.36623417,  0.33640642,  0.28393679,\n",
       "        0.24335529,  0.23939137,  0.20129249,  0.19140006,  0.18771154,\n",
       "        0.18282894,  0.17786421,  0.17769502,  0.1522421 ,  0.14300802,\n",
       "        0.09793307,  0.08098534,  0.07004315,  0.05171216,  0.04282613,\n",
       "        0.02506508,  0.01700146, -0.02767581, -0.0420467 , -0.04293927,\n",
       "       -0.04360451, -0.05504699, -0.08126688, -0.09958341, -0.11322489,\n",
       "       -0.12954649, -0.12995327, -0.13319125, -0.13351683, -0.13732861,\n",
       "       -0.14777356, -0.16338666, -0.19124227, -0.19480987, -0.20252454,\n",
       "       -0.20731306, -0.20847161, -0.23187811, -0.26773164, -0.27997688,\n",
       "       -0.29179505, -0.3390992 , -0.34921867, -0.36880159, -0.37139271,\n",
       "       -0.40808614, -0.42700569, -0.47158127, -0.47204166, -0.47412315,\n",
       "       -0.53737289, -0.55062522, -0.55693049, -0.56899338, -0.57185494,\n",
       "       -0.58371236, -0.61687237, -0.61953537, -0.63229506, -0.68376331,\n",
       "       -0.71158039, -0.73431637, -0.73493128, -0.7352677 , -0.75034797,\n",
       "       -0.76987367, -0.77803579, -0.81156395, -0.85022053, -0.86146296,\n",
       "       -0.90748302, -0.95259631, -1.00265506, -1.03407598, -1.09457591,\n",
       "       -1.14439002, -1.17020594, -1.18139318, -1.21218525, -1.25177391,\n",
       "       -1.33061601, -1.34633779, -1.40725837, -1.49338991, -1.53349872,\n",
       "       -1.54409574, -1.55845604, -1.57871428, -1.59086651, -1.60909767,\n",
       "       -1.62629174, -1.63091903, -1.78036325, -1.92386922, -1.9954363 ])"
      ]
     },
     "execution_count": 63,
     "metadata": {},
     "output_type": "execute_result"
    }
   ],
   "source": [
    "np.sort(large_arr)[::-1]  # 먼저 내림차순으로 sort"
   ]
  },
  {
   "cell_type": "code",
   "execution_count": 64,
   "metadata": {
    "collapsed": false
   },
   "outputs": [
    {
     "data": {
      "text/plain": [
       "1.359280679439749"
      ]
     },
     "execution_count": 64,
     "metadata": {},
     "output_type": "execute_result"
    }
   ],
   "source": [
    "np.sort(large_arr)[::-1][int(0.05 * len(large_arr))]       \n",
    "# 내림차순된 array에서 0.05 * 150을 수행하여 int값으로 변경, 계산된 7번째 자리값이 5%의 값이다.     "
   ]
  },
  {
   "cell_type": "code",
   "execution_count": 65,
   "metadata": {
    "collapsed": true
   },
   "outputs": [],
   "source": [
    "# 중복된 값 제거하기 - unique()\n",
    "names = np.array(['charles', 'hyunsuk','charles', 'hayoung','hyunsuk','joohee','joohee'])\n",
    "ints = np.array([3,3,3,4,4,1,1,2,5,5,6,8])"
   ]
  },
  {
   "cell_type": "code",
   "execution_count": 66,
   "metadata": {
    "collapsed": false
   },
   "outputs": [
    {
     "data": {
      "text/plain": [
       "array(['charles', 'hayoung', 'hyunsuk', 'joohee'],\n",
       "      dtype='<U7')"
      ]
     },
     "execution_count": 66,
     "metadata": {},
     "output_type": "execute_result"
    }
   ],
   "source": [
    "np.unique(names)"
   ]
  },
  {
   "cell_type": "code",
   "execution_count": 67,
   "metadata": {
    "collapsed": false
   },
   "outputs": [
    {
     "data": {
      "text/plain": [
       "array([1, 2, 3, 4, 5, 6, 8])"
      ]
     },
     "execution_count": 67,
     "metadata": {},
     "output_type": "execute_result"
    }
   ],
   "source": [
    "np.unique(ints)"
   ]
  },
  {
   "cell_type": "code",
   "execution_count": null,
   "metadata": {
    "collapsed": true
   },
   "outputs": [],
   "source": []
  }
 ],
 "metadata": {
  "anaconda-cloud": {},
  "kernelspec": {
   "display_name": "Python [conda env:tensorflow]",
   "language": "python",
   "name": "conda-env-tensorflow-py"
  },
  "language_info": {
   "codemirror_mode": {
    "name": "ipython",
    "version": 3
   },
   "file_extension": ".py",
   "mimetype": "text/x-python",
   "name": "python",
   "nbconvert_exporter": "python",
   "pygments_lexer": "ipython3",
   "version": "3.5.4"
  }
 },
 "nbformat": 4,
 "nbformat_minor": 1
}
